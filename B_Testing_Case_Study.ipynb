{
 "cells": [
  {
   "cell_type": "code",
   "execution_count": 19,
   "metadata": {},
   "outputs": [],
   "source": [
    "import numpy as np\n",
    "import matplotlib.pyplot as plt\n",
    "import seaborn as sns\n",
    "import pandas as pd\n",
    "from scipy.stats import norm"
   ]
  },
  {
   "cell_type": "code",
   "execution_count": 20,
   "metadata": {},
   "outputs": [],
   "source": [
    "df_ab = pd.read_csv('ab_test_click_data.csv')"
   ]
  },
  {
   "cell_type": "code",
   "execution_count": 21,
   "metadata": {},
   "outputs": [
    {
     "data": {
      "application/vnd.microsoft.datawrangler.viewer.v0+json": {
       "columns": [
        {
         "name": "index",
         "rawType": "int64",
         "type": "integer"
        },
        {
         "name": "user_id",
         "rawType": "int64",
         "type": "integer"
        },
        {
         "name": "click",
         "rawType": "int64",
         "type": "integer"
        },
        {
         "name": "group",
         "rawType": "object",
         "type": "string"
        },
        {
         "name": "timestamp",
         "rawType": "object",
         "type": "string"
        }
       ],
       "conversionMethod": "pd.DataFrame",
       "ref": "fccebc64-6090-48f2-aaed-89d2fff2555c",
       "rows": [
        [
         "0",
         "1",
         "1",
         "exp",
         "2024-01-01 00:00:00"
        ],
        [
         "1",
         "2",
         "0",
         "exp",
         "2024-01-01 00:01:00"
        ],
        [
         "2",
         "3",
         "1",
         "exp",
         "2024-01-01 00:02:00"
        ],
        [
         "3",
         "4",
         "0",
         "exp",
         "2024-01-01 00:03:00"
        ],
        [
         "4",
         "5",
         "1",
         "exp",
         "2024-01-01 00:04:00"
        ]
       ],
       "shape": {
        "columns": 4,
        "rows": 5
       }
      },
      "text/html": [
       "<div>\n",
       "<style scoped>\n",
       "    .dataframe tbody tr th:only-of-type {\n",
       "        vertical-align: middle;\n",
       "    }\n",
       "\n",
       "    .dataframe tbody tr th {\n",
       "        vertical-align: top;\n",
       "    }\n",
       "\n",
       "    .dataframe thead th {\n",
       "        text-align: right;\n",
       "    }\n",
       "</style>\n",
       "<table border=\"1\" class=\"dataframe\">\n",
       "  <thead>\n",
       "    <tr style=\"text-align: right;\">\n",
       "      <th></th>\n",
       "      <th>user_id</th>\n",
       "      <th>click</th>\n",
       "      <th>group</th>\n",
       "      <th>timestamp</th>\n",
       "    </tr>\n",
       "  </thead>\n",
       "  <tbody>\n",
       "    <tr>\n",
       "      <th>0</th>\n",
       "      <td>1</td>\n",
       "      <td>1</td>\n",
       "      <td>exp</td>\n",
       "      <td>2024-01-01 00:00:00</td>\n",
       "    </tr>\n",
       "    <tr>\n",
       "      <th>1</th>\n",
       "      <td>2</td>\n",
       "      <td>0</td>\n",
       "      <td>exp</td>\n",
       "      <td>2024-01-01 00:01:00</td>\n",
       "    </tr>\n",
       "    <tr>\n",
       "      <th>2</th>\n",
       "      <td>3</td>\n",
       "      <td>1</td>\n",
       "      <td>exp</td>\n",
       "      <td>2024-01-01 00:02:00</td>\n",
       "    </tr>\n",
       "    <tr>\n",
       "      <th>3</th>\n",
       "      <td>4</td>\n",
       "      <td>0</td>\n",
       "      <td>exp</td>\n",
       "      <td>2024-01-01 00:03:00</td>\n",
       "    </tr>\n",
       "    <tr>\n",
       "      <th>4</th>\n",
       "      <td>5</td>\n",
       "      <td>1</td>\n",
       "      <td>exp</td>\n",
       "      <td>2024-01-01 00:04:00</td>\n",
       "    </tr>\n",
       "  </tbody>\n",
       "</table>\n",
       "</div>"
      ],
      "text/plain": [
       "   user_id  click group            timestamp\n",
       "0        1      1   exp  2024-01-01 00:00:00\n",
       "1        2      0   exp  2024-01-01 00:01:00\n",
       "2        3      1   exp  2024-01-01 00:02:00\n",
       "3        4      0   exp  2024-01-01 00:03:00\n",
       "4        5      1   exp  2024-01-01 00:04:00"
      ]
     },
     "execution_count": 21,
     "metadata": {},
     "output_type": "execute_result"
    }
   ],
   "source": [
    "df_ab.head()"
   ]
  },
  {
   "cell_type": "code",
   "execution_count": 22,
   "metadata": {},
   "outputs": [
    {
     "data": {
      "application/vnd.microsoft.datawrangler.viewer.v0+json": {
       "columns": [
        {
         "name": "index",
         "rawType": "object",
         "type": "string"
        },
        {
         "name": "user_id",
         "rawType": "float64",
         "type": "float"
        },
        {
         "name": "click",
         "rawType": "float64",
         "type": "float"
        }
       ],
       "conversionMethod": "pd.DataFrame",
       "ref": "f354a8f6-2890-449b-a4da-4f9e05a8e6e1",
       "rows": [
        [
         "count",
         "20000.0",
         "20000.0"
        ],
        [
         "mean",
         "10000.5",
         "0.40525"
        ],
        [
         "std",
         "5773.647027659381",
         "0.4909526344001204"
        ],
        [
         "min",
         "1.0",
         "0.0"
        ],
        [
         "25%",
         "5000.75",
         "0.0"
        ],
        [
         "50%",
         "10000.5",
         "0.0"
        ],
        [
         "75%",
         "15000.25",
         "1.0"
        ],
        [
         "max",
         "20000.0",
         "1.0"
        ]
       ],
       "shape": {
        "columns": 2,
        "rows": 8
       }
      },
      "text/html": [
       "<div>\n",
       "<style scoped>\n",
       "    .dataframe tbody tr th:only-of-type {\n",
       "        vertical-align: middle;\n",
       "    }\n",
       "\n",
       "    .dataframe tbody tr th {\n",
       "        vertical-align: top;\n",
       "    }\n",
       "\n",
       "    .dataframe thead th {\n",
       "        text-align: right;\n",
       "    }\n",
       "</style>\n",
       "<table border=\"1\" class=\"dataframe\">\n",
       "  <thead>\n",
       "    <tr style=\"text-align: right;\">\n",
       "      <th></th>\n",
       "      <th>user_id</th>\n",
       "      <th>click</th>\n",
       "    </tr>\n",
       "  </thead>\n",
       "  <tbody>\n",
       "    <tr>\n",
       "      <th>count</th>\n",
       "      <td>20000.000000</td>\n",
       "      <td>20000.000000</td>\n",
       "    </tr>\n",
       "    <tr>\n",
       "      <th>mean</th>\n",
       "      <td>10000.500000</td>\n",
       "      <td>0.405250</td>\n",
       "    </tr>\n",
       "    <tr>\n",
       "      <th>std</th>\n",
       "      <td>5773.647028</td>\n",
       "      <td>0.490953</td>\n",
       "    </tr>\n",
       "    <tr>\n",
       "      <th>min</th>\n",
       "      <td>1.000000</td>\n",
       "      <td>0.000000</td>\n",
       "    </tr>\n",
       "    <tr>\n",
       "      <th>25%</th>\n",
       "      <td>5000.750000</td>\n",
       "      <td>0.000000</td>\n",
       "    </tr>\n",
       "    <tr>\n",
       "      <th>50%</th>\n",
       "      <td>10000.500000</td>\n",
       "      <td>0.000000</td>\n",
       "    </tr>\n",
       "    <tr>\n",
       "      <th>75%</th>\n",
       "      <td>15000.250000</td>\n",
       "      <td>1.000000</td>\n",
       "    </tr>\n",
       "    <tr>\n",
       "      <th>max</th>\n",
       "      <td>20000.000000</td>\n",
       "      <td>1.000000</td>\n",
       "    </tr>\n",
       "  </tbody>\n",
       "</table>\n",
       "</div>"
      ],
      "text/plain": [
       "            user_id         click\n",
       "count  20000.000000  20000.000000\n",
       "mean   10000.500000      0.405250\n",
       "std     5773.647028      0.490953\n",
       "min        1.000000      0.000000\n",
       "25%     5000.750000      0.000000\n",
       "50%    10000.500000      0.000000\n",
       "75%    15000.250000      1.000000\n",
       "max    20000.000000      1.000000"
      ]
     },
     "execution_count": 22,
     "metadata": {},
     "output_type": "execute_result"
    }
   ],
   "source": [
    "df_ab.describe()"
   ]
  },
  {
   "cell_type": "code",
   "execution_count": 23,
   "metadata": {},
   "outputs": [
    {
     "data": {
      "text/plain": [
       "group  click\n",
       "con    0        8011\n",
       "       1        1989\n",
       "exp    1        6116\n",
       "       0        3884\n",
       "Name: count, dtype: int64"
      ]
     },
     "execution_count": 23,
     "metadata": {},
     "output_type": "execute_result"
    }
   ],
   "source": [
    "df_ab.groupby('group')['click'].value_counts()"
   ]
  },
  {
   "cell_type": "code",
   "execution_count": 24,
   "metadata": {},
   "outputs": [
    {
     "data": {
      "image/png": "[encoded data removed]",
      "text/plain": [
       "<Figure size 1000x600 with 1 Axes>"
      ]
     },
     "metadata": {},
     "output_type": "display_data"
    }
   ],
   "source": [
    "plt.figure(figsize=(10, 6))\n",
    "sns.countplot(x='group', hue='click', data=df_ab)\n",
    "plt.title('Click Distribution in Control and Experiment Group')\n",
    "plt.xlabel('Group')\n",
    "plt.ylabel('Count')\n",
    "plt.legend(title='Click', labels=['No', 'Yes'])\n",
    "plt.tight_layout()\n",
    "plt.show()"
   ]
  },
  {
   "cell_type": "code",
   "execution_count": 25,
   "metadata": {},
   "outputs": [
    {
     "name": "stdout",
     "output_type": "stream",
     "text": [
      "Alpha significance level is: 0.05\n",
      "Minimum effect size to detect is: 0.1\n"
     ]
    }
   ],
   "source": [
    "alpha = 0.05\n",
    "print('Alpha significance level is:', alpha)\n",
    "delta = 0.1\n",
    "print('Minimum effect size to detect is:', delta)"
   ]
  },
  {
   "cell_type": "markdown",
   "metadata": {},
   "source": [
    "## Calculating total number of clicks per group by summing clicks"
   ]
  },
  {
   "cell_type": "code",
   "execution_count": 26,
   "metadata": {},
   "outputs": [
    {
     "name": "stdout",
     "output_type": "stream",
     "text": [
      "Total number of clicks:  8105\n",
      "Total number of clicks in control group: 1989\n",
      "Total number of clicks in experiment group: 6116\n"
     ]
    }
   ],
   "source": [
    "# calculating total number of clicks per group by add all 1's\n",
    "X_con = df_ab.groupby('group')['click'].sum().loc['con']\n",
    "X_exp = df_ab.groupby('group')['click'].sum().loc['exp']\n",
    "print('Total number of clicks: ', X_con + X_exp)\n",
    "print('Total number of clicks in control group:', X_con)\n",
    "print('Total number of clicks in experiment group:', X_exp)"
   ]
  },
  {
   "cell_type": "code",
   "execution_count": 27,
   "metadata": {},
   "outputs": [
    {
     "name": "stdout",
     "output_type": "stream",
     "text": [
      "Total number of samples in control group: 10000\n",
      "Total number of samples in experiment group: 10000\n"
     ]
    }
   ],
   "source": [
    "N_con = df_ab['group'].value_counts().loc['con']\n",
    "N_exp = df_ab['group'].value_counts().loc['exp']\n",
    "print('Total number of samples in control group:', N_con)\n",
    "print('Total number of samples in experiment group:', N_exp)"
   ]
  },
  {
   "cell_type": "markdown",
   "metadata": {},
   "source": [
    "## Calculating Pooled Estimates for Clicks per Group"
   ]
  },
  {
   "cell_type": "markdown",
   "metadata": {},
   "source": [
    "![image](pooled_prob.png)"
   ]
  },
  {
   "cell_type": "code",
   "execution_count": 28,
   "metadata": {},
   "outputs": [
    {
     "name": "stdout",
     "output_type": "stream",
     "text": [
      "Estimated probability of a click in control group: 0.1989\n",
      "Estimated probability of a click in experiment group: 0.6116\n",
      "Estimated pooled probability of a click: 0.40525\n"
     ]
    }
   ],
   "source": [
    "# computing the estimated probability of a click for each group\n",
    "p_con = X_con / N_con\n",
    "p_exp = X_exp / N_exp\n",
    "print('Estimated probability of a click in control group:', p_con)\n",
    "print('Estimated probability of a click in experiment group:', p_exp)\n",
    "\n",
    "# computing the estimate of pooled clicked probability\n",
    "p_pool = (X_con + X_exp) / (N_con + N_exp)\n",
    "print('Estimated pooled probability of a click:', p_pool)"
   ]
  },
  {
   "cell_type": "markdown",
   "metadata": {},
   "source": [
    "## Calculating Pooled Variance"
   ]
  },
  {
   "cell_type": "code",
   "execution_count": 29,
   "metadata": {},
   "outputs": [
    {
     "name": "stdout",
     "output_type": "stream",
     "text": [
      "Estimated pooled variance: 4.82044875e-05\n"
     ]
    }
   ],
   "source": [
    "# computing the estimate of pooled variance\n",
    "pooled_var = p_pool * (1 - p_pool) * (1/N_con + 1/N_exp)\n",
    "print('Estimated pooled variance:', pooled_var)"
   ]
  },
  {
   "cell_type": "markdown",
   "metadata": {},
   "source": [
    "## Calculating Standard Error and Test Statistics"
   ]
  },
  {
   "cell_type": "code",
   "execution_count": 32,
   "metadata": {},
   "outputs": [
    {
     "name": "stdout",
     "output_type": "stream",
     "text": [
      "Standard error: 0.006942945160376826\n",
      "Z-score: -59.44163326469381\n",
      "Critical value of the Z-test: 1.959963984540054\n"
     ]
    }
   ],
   "source": [
    "# computing the standard error\n",
    "std_error = np.sqrt(pooled_var)\n",
    "print('Standard error:', std_error)\n",
    "\n",
    "# computing the z-score\n",
    "z_score = (p_con - p_exp) / std_error\n",
    "print('Z-score:', z_score)\n",
    "\n",
    "# critical value of the Z-test\n",
    "z_critical = norm.ppf(1 - alpha/2)\n",
    "print('Critical value of the Z-test:', z_critical)"
   ]
  },
  {
   "cell_type": "markdown",
   "metadata": {},
   "source": [
    "## Calculating p_values of the Z-test\n",
    "- A low p-value (p<=0.05 at 5% significance level) indicates strong evidence againts the null hypothesis, so we reject the null hypothesis\n",
    "- A high p-value (p>0.05) indicates weak evidence against the null hypothesis, so we fail to reject the null hypothesis"
   ]
  },
  {
   "cell_type": "code",
   "execution_count": 34,
   "metadata": {},
   "outputs": [
    {
     "name": "stdout",
     "output_type": "stream",
     "text": [
      "P-value: 0.0\n",
      "Reject the null hypothesis\n"
     ]
    }
   ],
   "source": [
    "# calculating p-value\n",
    "p_value = 2 * norm.sf(abs(z_score))\n",
    "print('P-value:', p_value)\n",
    "\n",
    "# function to check the statistical significance\n",
    "def check_statistical_significance(p_value, alpha):\n",
    "    if p_value <= alpha:\n",
    "        print('Reject the null hypothesis')\n",
    "    else:\n",
    "        print('Fail to reject the null hypothesis')\n",
    "\n",
    "check_statistical_significance(p_value, alpha)"
   ]
  },
  {
   "cell_type": "markdown",
   "metadata": {},
   "source": [
    "## Calculating Confidence Interval of the test"
   ]
  },
  {
   "cell_type": "code",
   "execution_count": 39,
   "metadata": {},
   "outputs": [
    {
     "name": "stdout",
     "output_type": "stream",
     "text": [
      "Confidence interval: [0.3991, 0.4263]\n"
     ]
    }
   ],
   "source": [
    "conf_int = [\n",
    "    round((p_exp - p_con) - std_error*z_critical, 4),\n",
    "    round((p_exp - p_con) + std_error*z_critical, 4)\n",
    "]\n",
    "\n",
    "print('Confidence interval:', conf_int)"
   ]
  }
 ],
 "metadata": {
  "kernelspec": {
   "display_name": "ml_env",
   "language": "python",
   "name": "python3"
  },
  "language_info": {
   "codemirror_mode": {
    "name": "ipython",
    "version": 3
   },
   "file_extension": ".py",
   "mimetype": "text/x-python",
   "name": "python",
   "nbconvert_exporter": "python",
   "pygments_lexer": "ipython3",
   "version": "3.10.13"
  }
 },
 "nbformat": 4,
 "nbformat_minor": 2
}
